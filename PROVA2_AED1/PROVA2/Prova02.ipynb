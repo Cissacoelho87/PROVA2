{
 "cells": [
  {
   "cell_type": "code",
   "execution_count": 7,
   "id": "1b639e90-e477-48d4-bc52-4ff0a8498dea",
   "metadata": {},
   "outputs": [],
   "source": [
    "def consumo(lista):\n",
    "    return sum(lista) / len(lista)"
   ]
  },
  {
   "cell_type": "code",
   "execution_count": 9,
   "id": "185aab63-d8b9-4183-8757-787718af54f2",
   "metadata": {},
   "outputs": [
    {
     "name": "stdout",
     "output_type": "stream",
     "text": [
      "A média de consumo diário é: 51.16 kWh\n"
     ]
    }
   ],
   "source": [
    "consumo_diario = [50, 45, 45, 55, 60, 48, 52, 47, 49, 53, 51, 50, 46, 54, 61, 49, 53, 48, 50, 52, 47, 56, 50, 55, 60, 48, 52, 47, 49, 53, 51]\n",
    "media = consumo(consumo_diario)\n",
    "print(f\"A média de consumo diário é: {media:.2f} kWh\")"
   ]
  },
  {
   "cell_type": "code",
   "execution_count": null,
   "id": "01882db5-913e-4f98-a33b-3fa3804bef0b",
   "metadata": {},
   "outputs": [],
   "source": []
  }
 ],
 "metadata": {
  "kernelspec": {
   "display_name": "Python [conda env:base] *",
   "language": "python",
   "name": "conda-base-py"
  },
  "language_info": {
   "codemirror_mode": {
    "name": "ipython",
    "version": 3
   },
   "file_extension": ".py",
   "mimetype": "text/x-python",
   "name": "python",
   "nbconvert_exporter": "python",
   "pygments_lexer": "ipython3",
   "version": "3.12.7"
  }
 },
 "nbformat": 4,
 "nbformat_minor": 5
}
